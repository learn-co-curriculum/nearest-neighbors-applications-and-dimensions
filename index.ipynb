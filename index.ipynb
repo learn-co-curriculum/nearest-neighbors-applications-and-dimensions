{
 "cells": [
  {
   "cell_type": "markdown",
   "metadata": {},
   "source": [
    "### Nearest by Interest and in higher dimensions"
   ]
  },
  {
   "cell_type": "markdown",
   "metadata": {},
   "source": [
    "So far, we have used our nearest neighbor formula to calculate physical differences between individuals.  Data scientists extend this function to find individuals who are close not just physically, but by many other attributes."
   ]
  },
  {
   "cell_type": "markdown",
   "metadata": {},
   "source": [
    "### Nearest Neighbor by Interest"
   ]
  },
  {
   "cell_type": "markdown",
   "metadata": {},
   "source": [
    "For example, imagine that we are recommending movies for friends.  Our technique is to assess whose tastes are most similar, so then we can look to those nearby individuals to recommend a movie.  If two friends have enjoyed movies similarly in the past, we can predict that they will rate a different movie similarly.  We can see which friends have interests that are close to each other through our nearest neighbors formula.  "
   ]
  },
  {
   "cell_type": "markdown",
   "metadata": {},
   "source": [
    "Ok, let's start with some ratings of the movie, *Hunger Games: Catching Fire*."
   ]
  },
  {
   "cell_type": "markdown",
   "metadata": {},
   "source": [
    "| Name | Hunger Games: Catching Fire | \n",
    "|------|---------------------------------| \n",
    "| Bob    | 3  |     \n",
    "| Suzie  | 1  |     \n",
    "| Fred   | 5  |     \n",
    "| Edgar  | 2  |     \n",
    "| Steven | 4  |     \n",
    "| Natalie| 4.5  |     "
   ]
  },
  {
   "cell_type": "markdown",
   "metadata": {},
   "source": [
    "Let's plot out these ratings."
   ]
  },
  {
   "cell_type": "markdown",
   "metadata": {},
   "source": [
    "![Customers and Bob](./Hunger-Games-Ratings.png \"Customers and Bob\")"
   ]
  },
  {
   "cell_type": "markdown",
   "metadata": {},
   "source": [
    "Just by looking at this graph, we can see that Steven, Natalie and Fred are grouped closest together.  So if we were assessing similarity in movie taste just by Hunger Game ratings alone, it looks like to recommend a movie to either Steven or Fred, we would turn to a movie that Natalie likes.  Now let's add in a second movie:"
   ]
  },
  {
   "cell_type": "markdown",
   "metadata": {},
   "source": [
    "| Name | Hunger Games: Catching Fire | Toy Story 3 | \n",
    "|------|---------------------------------| ------ |\n",
    "| Bob    | 3  |     4     | \n",
    "| Suzie  | 1  |     4     | \n",
    "| Fred   | 5  |     4     | \n",
    "| Edgar  | 2  |     5     | \n",
    "| Steven | 4  |     2     | \n",
    "| Natalie| 4.5  |     2     | "
   ]
  },
  {
   "cell_type": "markdown",
   "metadata": {},
   "source": [
    "Just like in previous lessons, we have two dimensional data, and given one individual, we can calculate distances from our selected individual to the rest of the individuals.  Our data looks like the following graphically:"
   ]
  },
  {
   "cell_type": "markdown",
   "metadata": {},
   "source": [
    "![Customers and Bob](./ratings-2d.png \"Customers and Bob\")"
   ]
  },
  {
   "cell_type": "markdown",
   "metadata": {},
   "source": [
    "And our data would be represented as the following in Python."
   ]
  },
  {
   "cell_type": "code",
   "execution_count": 2,
   "metadata": {
    "collapsed": true
   },
   "outputs": [],
   "source": [
    "neighbors = [{'name': 'Bob', 'HungerGames': 3, 'ToyStory': 4}, {'name': 'Suzie', 'HungerGames': 1, 'ToyStory': 4}, \n",
    "{'name': 'Fred', 'HungerGames': 5, 'ToyStory': 4}, {'name': 'Edgar', 'HungerGames': 2, 'ToyStory': 5},\n",
    "{'name': 'Steven', 'HungerGames': 4, 'ToyStory': 2}, {'name': 'Natalie', 'HungerGames': 4.5, 'ToyStory': 2}]"
   ]
  },
  {
   "cell_type": "markdown",
   "metadata": {},
   "source": [
    "Our previous methods, almost work perfectly.  The only problem is that our previous attributes were stored as x and y values, except now we have stored the attributes as `\"HungerGames\"` and `\"ToyStory\"`.  So let's modify our distance, formula, which previously was the following:\n",
    "\n",
    "```python\n",
    "def distance(selected_individual, neighbor):\n",
    "   distance_squared = (neighbor['x'] - selected_individual['x'])**2 + (neighbor['y'] - selected_individual['y'])**2\n",
    "   return math.sqrt(distance_squared)\n",
    "```"
   ]
  },
  {
   "cell_type": "code",
   "execution_count": 5,
   "metadata": {
    "collapsed": true
   },
   "outputs": [],
   "source": [
    "import math\n",
    "def distance(selected_individual, neighbor):\n",
    "   distance_squared = (neighbor['HungerGames'] - selected_individual['HungerGames'])**2 + (neighbor['ToyStory'] - selected_individual['ToyStory'])**2\n",
    "   return math.sqrt(distance_squared)"
   ]
  },
  {
   "cell_type": "code",
   "execution_count": 6,
   "metadata": {},
   "outputs": [
    {
     "data": {
      "text/plain": [
       "2.0"
      ]
     },
     "execution_count": 6,
     "metadata": {},
     "output_type": "execute_result"
    }
   ],
   "source": [
    "selected_individual = neighbors[0]\n",
    "neighbor = neighbors[1]\n",
    "distance(selected_individual, neighbor)"
   ]
  },
  {
   "cell_type": "code",
   "execution_count": 12,
   "metadata": {
    "collapsed": true
   },
   "outputs": [],
   "source": [
    "def distance_between_neighbors(selected_individual, neighbor):\n",
    "    neighbor_with_distance = neighbor.copy()\n",
    "    neighbor_with_distance['distance'] = distance(selected_individual, neighbor)\n",
    "    return neighbor_with_distance"
   ]
  },
  {
   "cell_type": "code",
   "execution_count": 13,
   "metadata": {
    "collapsed": true
   },
   "outputs": [],
   "source": [
    "def distance_all(selected_individual, neighbors):\n",
    "    remaining_neighbors = filter(lambda neighbor: neighbor != selected_individual, neighbors)\n",
    "    return list(map(lambda neighbor: distance_between_neighbors(selected_individual, neighbor), remaining_neighbors))"
   ]
  },
  {
   "cell_type": "code",
   "execution_count": 14,
   "metadata": {
    "collapsed": true
   },
   "outputs": [],
   "source": [
    "def nearest_neighbors(selected_individual, neighbors, number = None):\n",
    "    number = number or len(neighbors)\n",
    "    neighbor_distances = distance_all(selected_individual, neighbors)\n",
    "    sorted_neighbors = sorted(neighbor_distances, key=lambda neighbor: neighbor['distance'])\n",
    "    return sorted_neighbors[:number]"
   ]
  },
  {
   "cell_type": "code",
   "execution_count": 17,
   "metadata": {},
   "outputs": [
    {
     "data": {
      "text/plain": [
       "[{'HungerGames': 2,\n",
       "  'ToyStory': 5,\n",
       "  'distance': 1.4142135623730951,\n",
       "  'name': 'Edgar'},\n",
       " {'HungerGames': 1, 'ToyStory': 4, 'distance': 2.0, 'name': 'Suzie'}]"
      ]
     },
     "execution_count": 17,
     "metadata": {},
     "output_type": "execute_result"
    }
   ],
   "source": [
    "nearest_neighbors(selected_individual, neighbors, 2)"
   ]
  },
  {
   "cell_type": "markdown",
   "metadata": {},
   "source": [
    "### Increasing the Dimensions"
   ]
  },
  {
   "cell_type": "markdown",
   "metadata": {},
   "source": [
    "So far, we have worked with two dimensional data, that is, data that we plot in an x and y axis.  This makes sense when comparing individuals by physical distances, however with interests, we can increase the number of dimensions.  For example, let's add a third movie to the mix, and then see how nearest neighbor applies."
   ]
  },
  {
   "cell_type": "markdown",
   "metadata": {},
   "source": [
    "| Name | Hunger Games: Catching Fire | Toy Story 3 | Frozen | \n",
    "|------|---------------------------------| ------ |\n",
    "| Bob    | 3  |     4     | 1 | \n",
    "| Suzie  | 1  |     4     | 4\n",
    "| Fred   | 5  |     4     | 10|\n",
    "| Edgar  | 2  |     5     | 5|\n",
    "| Steven | 4  |     2     | 4|\n",
    "| Natalie| 4.5  |     2     | 3|"
   ]
  },
  {
   "cell_type": "code",
   "execution_count": 73,
   "metadata": {
    "scrolled": false
   },
   "outputs": [
    {
     "data": {
      "text/html": [
       "\n",
       "        <iframe\n",
       "            width=\"1200\"\n",
       "            height=\"800\"\n",
       "            src=\"movies-3d.html\"\n",
       "            frameborder=\"0\"\n",
       "            allowfullscreen\n",
       "        ></iframe>\n",
       "        "
      ],
      "text/plain": [
       "<IPython.lib.display.IFrame at 0x10475f0f0>"
      ]
     },
     "execution_count": 73,
     "metadata": {},
     "output_type": "execute_result"
    }
   ],
   "source": [
    "from IPython.display import IFrame\n",
    "IFrame('movies-3d.html', width=1200, height=800)"
   ]
  },
  {
   "cell_type": "markdown",
   "metadata": {},
   "source": [
    "You can see that the above graph, displays the data in three dimensions.  Now how do you calculate the distance between any two points in three dimensional space?  Well, again it is just the single straight line between the two points. "
   ]
  },
  {
   "cell_type": "markdown",
   "metadata": {},
   "source": [
    "For example, consider the distance between Fred and Natalie.  The diagonal line between Fred and Natalie is the distance between the two points.  And that diagonal line is itself the hypotenuse of a right triangle.  Now the formula for calculating a hypotenuse in three coordinates, is the following: \n",
    "\n",
    "$distance = \\sqrt{(x_{2} - x_{1})^2 + (y_{2} - y_{1})^2 + (z_{2} - z_{1})^2}$"
   ]
  },
  {
   "cell_type": "markdown",
   "metadata": {},
   "source": [
    "You can watch the [following video](https://www.youtube.com/watch?v=Yi1jYlCzU4E), if you'd like to see why."
   ]
  },
  {
   "cell_type": "markdown",
   "metadata": {},
   "source": [
    "Once we get to a fourth dimension, however, our brain stops having the capacity to visualize space.  But that doesn't mean that our distance formula breaks down.  We could still apply the nearest neighbors formula with four movies, and more... We simply follow our pattern.  \n",
    "\n",
    "So this would be distance in four dimensions.\n",
    "\n",
    "$distance = \\sqrt{(x_{2} - x_{1})^2 + (y_{2} - y_{1})^2 + (z_{2} - z_{1})^2 + (w_{2} - w_{1})^2}$\n",
    "\n",
    "Were $w$ is our new movie."
   ]
  },
  {
   "cell_type": "markdown",
   "metadata": {},
   "source": [
    "And so on.  Or, to be formal, the square of the distance between two points is equal to the sum, from the first coordinate to the last coordinate, of the squares of the distances in each dimension."
   ]
  },
  {
   "cell_type": "markdown",
   "metadata": {},
   "source": [
    "### Summary"
   ]
  },
  {
   "cell_type": "markdown",
   "metadata": {},
   "source": [
    "In this lesson, we reviewed the nearest neighbors function and saw how it derives from calculating the distance using the Pythagorean Theorem to then sorting neighbors by that interest.  \n",
    "\n",
    "Then we saw that the nearest neighbors technique has applications beyond calculating physical distance, and can also be used to relate individuals by preferences.  With each new attribute, another axis or dimension is added and the points are plotted.  Calculating nearest neighbors in higher than two dimensions is similar to our previous technique, with required modification being to the distance formula.         "
   ]
  }
 ],
 "metadata": {
  "kernelspec": {
   "display_name": "Python 3",
   "language": "python",
   "name": "python3"
  },
  "language_info": {
   "codemirror_mode": {
    "name": "ipython",
    "version": 3
   },
   "file_extension": ".py",
   "mimetype": "text/x-python",
   "name": "python",
   "nbconvert_exporter": "python",
   "pygments_lexer": "ipython3",
   "version": "3.6.1"
  }
 },
 "nbformat": 4,
 "nbformat_minor": 2
}
